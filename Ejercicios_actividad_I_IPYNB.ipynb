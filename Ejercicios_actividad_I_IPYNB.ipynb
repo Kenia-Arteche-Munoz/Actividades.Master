{
  "nbformat": 4,
  "nbformat_minor": 0,
  "metadata": {
    "colab": {
      "provenance": [],
      "toc_visible": true,
      "collapsed_sections": [
        "d8MnwJVbLOm9",
        "HKZbwa1EYGKy",
        "LNnjm4M_nLtg",
        "8JlFWZ944dxB"
      ],
      "authorship_tag": "ABX9TyPtsRw8t0775bsgrhvvohTY",
      "include_colab_link": true
    },
    "kernelspec": {
      "name": "python3",
      "display_name": "Python 3"
    },
    "language_info": {
      "name": "python"
    }
  },
  "cells": [
    {
      "cell_type": "markdown",
      "metadata": {
        "id": "view-in-github",
        "colab_type": "text"
      },
      "source": [
        "<a href=\"https://colab.research.google.com/github/Kenia-Arteche-Munoz/Actividades.Master/blob/main/Ejercicios_actividad_I_IPYNB.ipynb\" target=\"_parent\"><img src=\"https://colab.research.google.com/assets/colab-badge.svg\" alt=\"Open In Colab\"/></a>"
      ]
    },
    {
      "cell_type": "markdown",
      "source": [
        "# Ejercicio manipulación de strings 1"
      ],
      "metadata": {
        "id": "d8MnwJVbLOm9"
      }
    },
    {
      "cell_type": "markdown",
      "source": [
        "1. Crea una nueva cadena llamada 'saludo' que use la variable 'string_simple' (que debe contener el valor Hola) y la concatene con la frase \", cómo estás hoy?\" utilizando el operador +."
      ],
      "metadata": {
        "id": "Lwqhjiy64S_g"
      }
    },
    {
      "cell_type": "code",
      "source": [
        "string_simple = \"Hola\"\n",
        "saludo = string_simple + \", ¿cómo estás hoy?\"\n",
        "print(saludo)"
      ],
      "metadata": {
        "colab": {
          "base_uri": "https://localhost:8080/"
        },
        "id": "8RIY9h-1MaWe",
        "outputId": "bcb7c7cd-d477-4b0d-c6b8-83f87cd51310"
      },
      "execution_count": null,
      "outputs": [
        {
          "output_type": "stream",
          "name": "stdout",
          "text": [
            "Hola, ¿cómo estás hoy?\n"
          ]
        }
      ]
    },
    {
      "cell_type": "markdown",
      "source": [
        "2. Utiliza f-strings para imprimir la variable 'string_simple' en mayúsculas, seguida de la pregunta \"cómo te encuentras hoy?\"."
      ],
      "metadata": {
        "id": "ZKPCP_0mO45d"
      }
    },
    {
      "cell_type": "code",
      "source": [
        "print(f\"{string_simple.upper()}, ¿cómo estás hoy?\")"
      ],
      "metadata": {
        "colab": {
          "base_uri": "https://localhost:8080/"
        },
        "id": "juaXuT3vO6Xb",
        "outputId": "6ec97ed3-779b-4825-c954-f7fd9cec7dbb"
      },
      "execution_count": null,
      "outputs": [
        {
          "output_type": "stream",
          "name": "stdout",
          "text": [
            "HOLA, ¿cómo estás hoy?\n"
          ]
        }
      ]
    },
    {
      "cell_type": "markdown",
      "source": [
        "3. Emplea el método .format() para crear una cadena que indique que el precio de una bici es de 1150.4332€, mostrando 3 decimales."
      ],
      "metadata": {
        "id": "pW0-EmyAP5Mn"
      }
    },
    {
      "cell_type": "code",
      "source": [
        "precio_bici = 1150.4332\n",
        "print(\"El precio de una bici es de {precio:.3f}€\".format(precio=precio_bici))"
      ],
      "metadata": {
        "colab": {
          "base_uri": "https://localhost:8080/"
        },
        "id": "ke-2VwDIP7IO",
        "outputId": "220f0e5d-7e0b-49c8-909a-376d929f5da0"
      },
      "execution_count": null,
      "outputs": [
        {
          "output_type": "stream",
          "name": "stdout",
          "text": [
            "El precio de una bici es de 1150.433€\n"
          ]
        }
      ]
    },
    {
      "cell_type": "markdown",
      "source": [
        "4. Con otro .format(), forma una cadena que diga que \"un luchador de sumo pesa 132,89 kg\", especificando solo un decimal en el peso."
      ],
      "metadata": {
        "id": "GXOqeun4QmgB"
      }
    },
    {
      "cell_type": "code",
      "source": [
        "peso_luchador = 132.89\n",
        "print(\"un luchador de sumo pesa {peso:.1f}kg\".format(peso=peso_luchador))\n",
        "print(\"un luchador de sumo pesa {peso:.1f}kg\".capitalize().format(peso=peso_luchador))"
      ],
      "metadata": {
        "colab": {
          "base_uri": "https://localhost:8080/"
        },
        "id": "OWb--Q58Qoue",
        "outputId": "2d463931-4548-4202-c64c-91c02c60899b"
      },
      "execution_count": null,
      "outputs": [
        {
          "output_type": "stream",
          "name": "stdout",
          "text": [
            "un luchador de sumo pesa 132.9kg\n",
            "Un luchador de sumo pesa 132.9kg\n"
          ]
        }
      ]
    },
    {
      "cell_type": "markdown",
      "source": [
        "5. Corrige la frase \"En programación, mi herramienta favorita es Python\" para que diga \"En programación, mi INSTRUMENTO favorito es PYTHON\"."
      ],
      "metadata": {
        "id": "pqsfiZ3yRLrC"
      }
    },
    {
      "cell_type": "code",
      "source": [
        "frase = \"En programación, mi herramienta favorita es Python\"\n",
        "print(frase.replace(\"herramienta favorita\", \"INSTRUMENTO favorito\").replace(\"Python\",\"PYTHON\"))"
      ],
      "metadata": {
        "colab": {
          "base_uri": "https://localhost:8080/"
        },
        "id": "XJRyMob_RSMc",
        "outputId": "db07503f-f434-401a-a599-106e76c5133f"
      },
      "execution_count": null,
      "outputs": [
        {
          "output_type": "stream",
          "name": "stdout",
          "text": [
            "En programación, mi INSTRUMENTO favorito es PYTHON\n"
          ]
        }
      ]
    },
    {
      "cell_type": "markdown",
      "source": [
        "# Ejercicio manipulación listas: Friends"
      ],
      "metadata": {
        "id": "HKZbwa1EYGKy"
      }
    },
    {
      "cell_type": "markdown",
      "source": [
        "Trabaja con una lista que contiene los nombres de los personajes principales de la serie \"Friends\":\n",
        "\n",
        "\"Rachel\", \"Monica\", \"Phoebe\", \"Joey\", \"Chandler\", \"Ross\"\n",
        "\n",
        "Realiza las siguientes operaciones sobre la lista utilizando los métodos de listas de Python:\n",
        "\n",
        "1. Añade \"Gunther\" al final de la lista."
      ],
      "metadata": {
        "id": "EZLR5oLV4YUe"
      }
    },
    {
      "cell_type": "code",
      "source": [
        "personajes_friends = [\"Rachel\", \"Monica\", \"Phoebe\", \"Joey\", \"Chandler\", \"Ross\"]\n",
        "personajes_friends.append(\"Gunther\")\n",
        "print(personajes_friends)"
      ],
      "metadata": {
        "colab": {
          "base_uri": "https://localhost:8080/"
        },
        "id": "QHOHaUPQYRUP",
        "outputId": "c8083837-4514-4cd8-b408-5446098bcaa7"
      },
      "execution_count": null,
      "outputs": [
        {
          "output_type": "stream",
          "name": "stdout",
          "text": [
            "['Rachel', 'Monica', 'Phoebe', 'Joey', 'Chandler', 'Ross', 'Gunther']\n"
          ]
        }
      ]
    },
    {
      "cell_type": "markdown",
      "source": [
        "2. Extiende la lista con los personajes [\"Janice\", \"Mike\"]."
      ],
      "metadata": {
        "id": "i6jCfRKqYonN"
      }
    },
    {
      "cell_type": "code",
      "source": [
        "personajes_friends.extend([\"Janice\", \"Mike\"])\n",
        "print(personajes_friends)"
      ],
      "metadata": {
        "colab": {
          "base_uri": "https://localhost:8080/"
        },
        "id": "dfR5gWd3Yqeh",
        "outputId": "f5ef3446-e2d2-483f-e572-506161f5492f"
      },
      "execution_count": null,
      "outputs": [
        {
          "output_type": "stream",
          "name": "stdout",
          "text": [
            "['Rachel', 'Monica', 'Phoebe', 'Joey', 'Chandler', 'Ross', 'Gunther', 'Janice', 'Mike']\n"
          ]
        }
      ]
    },
    {
      "cell_type": "markdown",
      "source": [
        "3. Inserta \"Richard\" en la segunda posición."
      ],
      "metadata": {
        "id": "IGOKpd7dZ6AG"
      }
    },
    {
      "cell_type": "code",
      "source": [
        "personajes_friends.insert(1, \"Richard\")\n",
        "print(personajes_friends)"
      ],
      "metadata": {
        "colab": {
          "base_uri": "https://localhost:8080/"
        },
        "id": "S_0N6yPxZ7kH",
        "outputId": "e829ff74-e48a-4130-f709-25dda30fa891"
      },
      "execution_count": null,
      "outputs": [
        {
          "output_type": "stream",
          "name": "stdout",
          "text": [
            "['Rachel', 'Richard', 'Monica', 'Phoebe', 'Joey', 'Chandler', 'Ross', 'Gunther', 'Janice', 'Mike']\n"
          ]
        }
      ]
    },
    {
      "cell_type": "markdown",
      "source": [
        "4. Elimina \"Rachel\" de la lista."
      ],
      "metadata": {
        "id": "zzS35sE2amPS"
      }
    },
    {
      "cell_type": "code",
      "source": [
        "personajes_friends.remove(\"Rachel\")\n",
        "print(personajes_friends)"
      ],
      "metadata": {
        "colab": {
          "base_uri": "https://localhost:8080/"
        },
        "id": "jKkHgj4qapt4",
        "outputId": "fe3252c3-9d77-4238-d0d8-73d2ec0e445d"
      },
      "execution_count": null,
      "outputs": [
        {
          "output_type": "stream",
          "name": "stdout",
          "text": [
            "['Richard', 'Monica', 'Phoebe', 'Joey', 'Chandler', 'Ross', 'Gunther', 'Janice', 'Mike']\n"
          ]
        }
      ]
    },
    {
      "cell_type": "markdown",
      "source": [
        "5. Elimina y devuelve el último elemento de la lista."
      ],
      "metadata": {
        "id": "eCWWVMNca0bE"
      }
    },
    {
      "cell_type": "code",
      "source": [
        "ultimo_elemento = personajes_friends.pop()\n",
        "print(personajes_friends)\n",
        "ultimo_elemento"
      ],
      "metadata": {
        "colab": {
          "base_uri": "https://localhost:8080/",
          "height": 53
        },
        "id": "ZXs66eWOa-x-",
        "outputId": "f1214021-caf0-4f23-9470-916bf3e121dc"
      },
      "execution_count": null,
      "outputs": [
        {
          "output_type": "stream",
          "name": "stdout",
          "text": [
            "['Richard', 'Monica', 'Phoebe', 'Joey', 'Chandler', 'Ross', 'Gunther', 'Janice']\n"
          ]
        },
        {
          "output_type": "execute_result",
          "data": {
            "text/plain": [
              "'Mike'"
            ],
            "application/vnd.google.colaboratory.intrinsic+json": {
              "type": "string"
            }
          },
          "metadata": {},
          "execution_count": 59
        }
      ]
    },
    {
      "cell_type": "markdown",
      "source": [
        "6. Encuentra el índice del personaje \"Chandler\"."
      ],
      "metadata": {
        "id": "qh0CrzGAa4oh"
      }
    },
    {
      "cell_type": "code",
      "source": [
        "chandler_indice = personajes_friends.index(\"Chandler\")\n",
        "print(chandler_indice)"
      ],
      "metadata": {
        "colab": {
          "base_uri": "https://localhost:8080/"
        },
        "id": "0sYiPsM5chz0",
        "outputId": "f6950dc1-d128-4094-9c0b-b183e97cec6f"
      },
      "execution_count": null,
      "outputs": [
        {
          "output_type": "stream",
          "name": "stdout",
          "text": [
            "4\n"
          ]
        }
      ]
    },
    {
      "cell_type": "markdown",
      "source": [
        "7. Cuenta cuántas veces aparece \"Ross\" en la lista."
      ],
      "metadata": {
        "id": "duszzXIUa8oq"
      }
    },
    {
      "cell_type": "code",
      "source": [
        "ross_enlista = personajes_friends.count(\"Ross\")\n",
        "print(ross_enlista)"
      ],
      "metadata": {
        "colab": {
          "base_uri": "https://localhost:8080/"
        },
        "id": "fr_6BI_Dc0yy",
        "outputId": "81680393-fb16-4c95-d428-54f7ecac32aa"
      },
      "execution_count": null,
      "outputs": [
        {
          "output_type": "stream",
          "name": "stdout",
          "text": [
            "1\n"
          ]
        }
      ]
    },
    {
      "cell_type": "markdown",
      "source": [
        "8. Ordena la lista en orden alfabético."
      ],
      "metadata": {
        "id": "uk-rP435dNKV"
      }
    },
    {
      "cell_type": "code",
      "source": [
        "personajes_friends.sort()\n",
        "print(personajes_friends)"
      ],
      "metadata": {
        "colab": {
          "base_uri": "https://localhost:8080/"
        },
        "id": "QaqNpOysdSj9",
        "outputId": "035b1e1f-dc33-421e-8574-20abd660acd0"
      },
      "execution_count": null,
      "outputs": [
        {
          "output_type": "stream",
          "name": "stdout",
          "text": [
            "['Chandler', 'Gunther', 'Janice', 'Joey', 'Monica', 'Phoebe', 'Richard', 'Ross']\n"
          ]
        }
      ]
    },
    {
      "cell_type": "markdown",
      "source": [
        "9. Invierte el orden de los elementos de la lista."
      ],
      "metadata": {
        "id": "l-0uFBHid0Oi"
      }
    },
    {
      "cell_type": "code",
      "source": [
        "personajes_friends.reverse()\n",
        "print(personajes_friends)"
      ],
      "metadata": {
        "colab": {
          "base_uri": "https://localhost:8080/"
        },
        "id": "DrIR8-KLdblK",
        "outputId": "4dc86dae-a6e1-4869-8f02-154ab6caa8eb"
      },
      "execution_count": null,
      "outputs": [
        {
          "output_type": "stream",
          "name": "stdout",
          "text": [
            "['Ross', 'Richard', 'Phoebe', 'Monica', 'Joey', 'Janice', 'Gunther', 'Chandler']\n"
          ]
        }
      ]
    },
    {
      "cell_type": "markdown",
      "source": [
        "10. Elimina todos los elementos de la lista original."
      ],
      "metadata": {
        "id": "MrE5zjiKd5Tf"
      }
    },
    {
      "cell_type": "code",
      "source": [
        "personajes_friends.clear()\n",
        "print(personajes_friends)"
      ],
      "metadata": {
        "colab": {
          "base_uri": "https://localhost:8080/"
        },
        "id": "HIsC-llId6Jm",
        "outputId": "972a36af-341c-48b4-8acc-735dbc6ff68d"
      },
      "execution_count": null,
      "outputs": [
        {
          "output_type": "stream",
          "name": "stdout",
          "text": [
            "[]\n"
          ]
        }
      ]
    },
    {
      "cell_type": "markdown",
      "source": [
        "# Ejercicio op lógicos"
      ],
      "metadata": {
        "id": "LNnjm4M_nLtg"
      }
    },
    {
      "cell_type": "markdown",
      "source": [
        "Solicita al usuario que introduzca un número entero.\n",
        "\n",
        "Luego, evalúa si el número ingresado es par o mayor que 100.\n",
        "\n",
        "Si el número es par o mayor que 100, el programa deberá imprimir True; de lo contrario, imprimirá False"
      ],
      "metadata": {
        "id": "qLaVN9ih4cOz"
      }
    },
    {
      "cell_type": "code",
      "source": [
        "numero =int(input(\"Introduce un número entero: \" ))\n",
        "if numero%2==0 and numero>100:\n",
        "  print(True)\n",
        "else:\n",
        "  print(False)"
      ],
      "metadata": {
        "colab": {
          "base_uri": "https://localhost:8080/"
        },
        "id": "sk1nLl0Tnloa",
        "outputId": "84a132b0-c186-45fb-ad88-34adc5b22ce1"
      },
      "execution_count": null,
      "outputs": [
        {
          "output_type": "stream",
          "name": "stdout",
          "text": [
            "Introduce un número entero: 103\n",
            "False\n"
          ]
        }
      ]
    },
    {
      "cell_type": "markdown",
      "source": [
        "# Ejercicio estructura de control"
      ],
      "metadata": {
        "id": "8JlFWZ944dxB"
      }
    },
    {
      "cell_type": "markdown",
      "source": [
        "Imagina que eres el organizador de un evento escolar que involucra juegos matemáticos. Uno de los juegos consiste en que los estudiantes encuentren números que cumplan con ciertas condiciones.\n",
        "\n",
        "- Se te proporciona una lista de números especiales para el juego:\n",
        "0, 10, 20, 30, 40, 50, 60, 70, 80, 90, 100\n",
        "\n",
        "- Debes solicitar al usuario (un estudiante) que introduzca un número entre 1 y 100 para verificar si cumple con las condiciones del juego.\n",
        "\n",
        "- Si el número introducido por el estudiante cumple con alguna de las siguientes condiciones, debes mostrar un mensaje adecuado:\n",
        "\n",
        "  - El número es un múltiplo de 2 y 3 y está en la lista de números especiales del juego.\n",
        "\n",
        "  - El número es un múltiplo de 2 y 3, pero no está en la lista de números especiales del juego.\n",
        "\n",
        "  - El número está en la lista de números especiales del juego.\n",
        "\n",
        "- Si el número no cumple con ninguna de las condiciones anteriores, debes informar al estudiante que el número no cumple con las reglas del juego."
      ],
      "metadata": {
        "id": "eqYHS5LU4lYg"
      }
    },
    {
      "cell_type": "code",
      "source": [
        "lista_numeros = [0, 10, 20, 30, 40, 50, 60, 70, 80, 90, 100]\n",
        "numero_estudiante = int(input(\"Introduce un número del 1 al 100: \"))\n",
        "if numero_estudiante in lista_numeros:\n",
        "  if numero_estudiante in lista_numeros and numero_estudiante%2==0 and numero_estudiante%3==0:\n",
        "    print(\"El número es un múltiplo de 2 y 3 y está en la lista de números especiales del juego.\")\n",
        "  elif numero_estudiante not in lista_numeros and numero_estudiante%2==0 and numero_estudiante%3==0:\n",
        "    print(\"El número es un múltiplo de 2 y 3, pero no está en la lista de números especiales del juego.\")\n",
        "  elif numero_estudiante in lista_numeros:\n",
        "    print(\"El número está en la lista de números especiales del juego.\")\n",
        "else:\n",
        "  print(\"El número no cumple con las reglas del juego.\")"
      ],
      "metadata": {
        "colab": {
          "base_uri": "https://localhost:8080/"
        },
        "id": "Bkd9NOhg5Fxm",
        "outputId": "5ad734fc-47d4-4641-ddba-30f16bd3ae38"
      },
      "execution_count": null,
      "outputs": [
        {
          "output_type": "stream",
          "name": "stdout",
          "text": [
            "Introduce un número del 1 al 100: 150\n",
            "El número no cumple con las reglas del juego.\n"
          ]
        }
      ]
    },
    {
      "cell_type": "markdown",
      "source": [
        "# Estructuras de control con contador"
      ],
      "metadata": {
        "id": "Bb3ih5fi41BW"
      }
    },
    {
      "cell_type": "markdown",
      "source": [
        "Imagina que trabajas en el departamento de servicio al cliente de una compañía que acaba de lanzar un nuevo producto y has recibido una serie de comentarios de los clientes. Quieres analizar rápidamente estos comentarios para ver cuántos mencionan un término específico relacionado con el producto, como podría ser el nombre del producto."
      ],
      "metadata": {
        "id": "1NLQLP4648oG"
      }
    },
    {
      "cell_type": "markdown",
      "source": [
        "Queremos analizar una lista de comentarios de clientes sobre un nuevo producto y contar cuántos de estos comentarios mencionan un término específico relacionado con el producto:\n",
        "\n",
        "  1. Define una variable llamada **nombre_producto** que contenga el nombre del producto que deseas buscar en los comentarios: EcoFriendlyBottle"
      ],
      "metadata": {
        "id": "gewTy7mA5AaU"
      }
    },
    {
      "cell_type": "code",
      "source": [
        "nombre_producto = \"EcoFriendlyBottle\""
      ],
      "metadata": {
        "id": "gbC_oee99f6-"
      },
      "execution_count": null,
      "outputs": []
    },
    {
      "cell_type": "markdown",
      "source": [
        "  2. Define una *lista* llamada **comentarios** que contenga varios comentarios de clientes sobre el producto.\n",
        "\n",
        "  > \"Realmente amo mi nueva EcoFriendlyBottle, ¡es perfecta para llevar al trabajo!\"\n",
        "\n",
        "  > \"No estoy seguro de si la EcoFriendlyBottle vale su precio.\"\n",
        "\n",
        "  > \"¿Alguien ha probado la EcoFriendlyBottle? Estoy pensando en comprar una.\"\n",
        "\n",
        "  > \"Preferiría algo más colorido que una EcoFriendlyBottle.\"\n",
        "\n",
        "  > \"¡Esta botella mantiene mi bebida fría por horas!\""
      ],
      "metadata": {
        "id": "hjWIv7C185Zx"
      }
    },
    {
      "cell_type": "code",
      "source": [
        "comentarios = [\"Realmente amo mi nueva EcoFriendlyBottle, ¡es perfecta para llevar al trabajo!\",\n",
        "               \"No estoy seguro de si la EcoFriendlyBottle vale su precio.\",\n",
        "               \"¿Alguien ha probado la EcoFriendlyBottle? Estoy pensando en comprar una.\",\n",
        "               \"Preferiría algo más colorido que una EcoFriendlyBottle.\",\n",
        "               \"¡Esta botella mantiene mi bebida fría por horas!\"]"
      ],
      "metadata": {
        "id": "pa67MxKC9jCK"
      },
      "execution_count": null,
      "outputs": []
    },
    {
      "cell_type": "markdown",
      "source": [
        "  3. Utiliza un bucle **for** para iterar sobre cada comentario en la lista comentarios."
      ],
      "metadata": {
        "id": "5EybQH6-88eN"
      }
    },
    {
      "cell_type": "code",
      "source": [
        "for comentario in comentarios:\n",
        "  print(comentario)"
      ],
      "metadata": {
        "colab": {
          "base_uri": "https://localhost:8080/"
        },
        "id": "tDaRXI-W-EB0",
        "outputId": "d91eb5a2-b422-42d6-a67a-3c029e27df24"
      },
      "execution_count": null,
      "outputs": [
        {
          "output_type": "stream",
          "name": "stdout",
          "text": [
            "Realmente amo mi nueva EcoFriendlyBottle, ¡es perfecta para llevar al trabajo!\n",
            "No estoy seguro de si la EcoFriendlyBottle vale su precio.\n",
            "¿Alguien ha probado la EcoFriendlyBottle? Estoy pensando en comprar una.\n",
            "Preferiría algo más colorido que una EcoFriendlyBottle.\n",
            "¡Esta botella mantiene mi bebida fría por horas!\n"
          ]
        }
      ]
    },
    {
      "cell_type": "markdown",
      "source": [
        "  4. Dentro del bucle, verifica si el nombre_producto aparece dentro del comentario."
      ],
      "metadata": {
        "id": "37VGgnxb9AMg"
      }
    },
    {
      "cell_type": "code",
      "source": [
        "for comentario in comentarios:\n",
        "  if nombre_producto in comentario:\n",
        "    print(True)\n",
        "  elif nombre_producto not in comentario:\n",
        "    print(False)"
      ],
      "metadata": {
        "colab": {
          "base_uri": "https://localhost:8080/"
        },
        "id": "pWjdE5FgbEmc",
        "outputId": "68d497c2-d1b2-4cda-f11e-d7372c04cd0b"
      },
      "execution_count": null,
      "outputs": [
        {
          "output_type": "stream",
          "name": "stdout",
          "text": [
            "True\n",
            "True\n",
            "True\n",
            "True\n",
            "False\n"
          ]
        }
      ]
    },
    {
      "cell_type": "markdown",
      "source": [
        "  5. Si el nombre_producto se encuentra en el comentario, incrementa un contador que lleva el registro de las menciones encontradas."
      ],
      "metadata": {
        "id": "SUtgRORo9CcE"
      }
    },
    {
      "cell_type": "code",
      "source": [
        "contador = 0\n",
        "for comentario in comentarios:\n",
        "  if nombre_producto in comentario:\n",
        "    contador += 1\n",
        "print(contador)"
      ],
      "metadata": {
        "colab": {
          "base_uri": "https://localhost:8080/"
        },
        "id": "_yxyoT9ybRfZ",
        "outputId": "0e5440c8-49c6-4813-c1af-08aad18af633"
      },
      "execution_count": null,
      "outputs": [
        {
          "output_type": "stream",
          "name": "stdout",
          "text": [
            "4\n"
          ]
        }
      ]
    },
    {
      "cell_type": "markdown",
      "source": [
        "  6. Imprime cada comentario que mencione el nombre_producto."
      ],
      "metadata": {
        "id": "fPvB5v8u9EK7"
      }
    },
    {
      "cell_type": "code",
      "source": [
        "for comentario in comentarios:\n",
        "  if nombre_producto in comentario:\n",
        "    print(comentario)"
      ],
      "metadata": {
        "colab": {
          "base_uri": "https://localhost:8080/"
        },
        "id": "0DxC5BmObdw4",
        "outputId": "ed058b4d-ad3d-4b97-b5ef-d0acbd67fe88"
      },
      "execution_count": null,
      "outputs": [
        {
          "output_type": "stream",
          "name": "stdout",
          "text": [
            "Realmente amo mi nueva EcoFriendlyBottle, ¡es perfecta para llevar al trabajo!\n",
            "No estoy seguro de si la EcoFriendlyBottle vale su precio.\n",
            "¿Alguien ha probado la EcoFriendlyBottle? Estoy pensando en comprar una.\n",
            "Preferiría algo más colorido que una EcoFriendlyBottle.\n"
          ]
        }
      ]
    },
    {
      "cell_type": "markdown",
      "source": [
        "  7. Al final, imprime el total de menciones encontradas del nombre_producto."
      ],
      "metadata": {
        "id": "NE2omPgW9Gg0"
      }
    },
    {
      "cell_type": "code",
      "source": [
        "print(f\"El nombre del producto '{nombre_producto}' fue mencionado {contador} veces.\")"
      ],
      "metadata": {
        "colab": {
          "base_uri": "https://localhost:8080/"
        },
        "id": "DC8ST0CjdeHz",
        "outputId": "caae501b-e07c-401f-8b10-0751295c5e39"
      },
      "execution_count": null,
      "outputs": [
        {
          "output_type": "stream",
          "name": "stdout",
          "text": [
            "El nombre del producto 'EcoFriendlyBottle' fue mencionado 4 veces.\n"
          ]
        }
      ]
    }
  ]
}